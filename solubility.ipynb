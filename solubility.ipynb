{
 "cells": [
  {
   "cell_type": "code",
   "execution_count": 1,
   "metadata": {},
   "outputs": [
    {
     "name": "stdout",
     "output_type": "stream",
     "text": [
      "2018.09.1\n"
     ]
    }
   ],
   "source": [
    "%matplotlib inline\n",
    "import matplotlib.pyplot as plt\n",
    "import os\n",
    "import numpy as np\n",
    "from rdkit import Chem\n",
    "from rdkit import rdBase\n",
    "from rdkit.Chem import AllChem\n",
    "from rdkit.Chem import DataStructs\n",
    "from rdkit.Chem import RDConfig\n",
    "from rdkit.Chem import rdFingerprintGenerator\n",
    "from sklearn.ensemble import RandomForestClassifier\n",
    "from sklearn.ensemble import ExtraTreesClassifier\n",
    "from sklearn.ensemble import GradientBoostingClassifier\n",
    "from sklearn.svm import SVC\n",
    "from xgboost import XGBClassifier\n",
    "from sklearn.metrics import classification_report\n",
    "from sklearn.metrics import confusion_matrix\n",
    "# This is new class for blending\n",
    "from blending_classification import BlendingClassifier\n",
    "\n",
    "datadir = os.path.join(RDConfig.RDDocsDir, \"Book/data\")\n",
    "print(rdBase.rdkitVersion)"
   ]
  },
  {
   "cell_type": "code",
   "execution_count": 2,
   "metadata": {},
   "outputs": [],
   "source": [
    "def mols2feat(mols):\n",
    "    generator = rdFingerprintGenerator.GetMorganGenerator(radius=2)\n",
    "    res = []\n",
    "    for mol in mols:\n",
    "        fp = generator.GetFingerprint(mol)\n",
    "        arr = np.zeros(0,)\n",
    "        DataStructs.ConvertToNumpyArray(fp, arr)\n",
    "        res.append(arr)\n",
    "    return res"
   ]
  },
  {
   "cell_type": "code",
   "execution_count": 3,
   "metadata": {},
   "outputs": [],
   "source": [
    "# load train and test data\n",
    "train_mol = [ mol for mol in Chem.SDMolSupplier(os.path.join(datadir,'solubility.train.sdf')) if mol != None]\n",
    "test_mol = [ mol for mol in Chem.SDMolSupplier(os.path.join(datadir,'solubility.test.sdf')) if mol != None]\n",
    "\n",
    "cls = list(set([mol.GetProp('SOL_classification') for mol in train_mol]))\n",
    "cls_dic = {}\n",
    "for i, cl in enumerate(cls):\n",
    "    cls_dic[cl] = i\n"
   ]
  },
  {
   "cell_type": "code",
   "execution_count": 4,
   "metadata": {},
   "outputs": [],
   "source": [
    "# make train X, y and test X, y\n",
    "train_X = np.array(mols2feat(train_mol))\n",
    "train_y = np.array([cls_dic[mol.GetProp('SOL_classification')] for mol in train_mol])\n",
    "\n",
    "test_X = np.array(mols2feat(test_mol))\n",
    "test_y = np.array([cls_dic[mol.GetProp('SOL_classification')] for mol in test_mol])"
   ]
  },
  {
   "cell_type": "code",
   "execution_count": 5,
   "metadata": {},
   "outputs": [],
   "source": [
    "rf = RandomForestClassifier(n_estimators=100, n_jobs=-1)\n",
    "et = ExtraTreesClassifier(n_estimators=100, n_jobs=-1)\n",
    "gbc = GradientBoostingClassifier(learning_rate=0.01)\n",
    "xgbc = XGBClassifier(n_estimators=100, n_jobs=-1)\n",
    "# To use SVC, probability option must be True\n",
    "svc = SVC(probability=True, gamma='auto')\n",
    "\n",
    "l1_clfs = [rf, et, gbc, xgbc]\n",
    "l2_clf = RandomForestClassifier(n_estimators=100, n_jobs=-1)"
   ]
  },
  {
   "cell_type": "code",
   "execution_count": 6,
   "metadata": {},
   "outputs": [],
   "source": [
    "blendclf = BlendingClassifier(l1_clfs, l2_clf, verbose=1)"
   ]
  },
  {
   "cell_type": "code",
   "execution_count": 7,
   "metadata": {},
   "outputs": [
    {
     "name": "stdout",
     "output_type": "stream",
     "text": [
      "Fitting 4 l1_classifiers...\n",
      "3 classes classification\n",
      "1-1th hold, <class 'sklearn.ensemble.forest.RandomForestClassifier'> classifier\n",
      "1-2th hold, <class 'sklearn.ensemble.forest.RandomForestClassifier'> classifier\n",
      "1-3th hold, <class 'sklearn.ensemble.forest.RandomForestClassifier'> classifier\n",
      "1-4th hold, <class 'sklearn.ensemble.forest.RandomForestClassifier'> classifier\n",
      "1-5th hold, <class 'sklearn.ensemble.forest.RandomForestClassifier'> classifier\n",
      "2-1th hold, <class 'sklearn.ensemble.forest.ExtraTreesClassifier'> classifier\n",
      "2-2th hold, <class 'sklearn.ensemble.forest.ExtraTreesClassifier'> classifier\n",
      "2-3th hold, <class 'sklearn.ensemble.forest.ExtraTreesClassifier'> classifier\n",
      "2-4th hold, <class 'sklearn.ensemble.forest.ExtraTreesClassifier'> classifier\n",
      "2-5th hold, <class 'sklearn.ensemble.forest.ExtraTreesClassifier'> classifier\n",
      "3-1th hold, <class 'sklearn.ensemble.gradient_boosting.GradientBoostingClassifier'> classifier\n",
      "3-2th hold, <class 'sklearn.ensemble.gradient_boosting.GradientBoostingClassifier'> classifier\n",
      "3-3th hold, <class 'sklearn.ensemble.gradient_boosting.GradientBoostingClassifier'> classifier\n",
      "3-4th hold, <class 'sklearn.ensemble.gradient_boosting.GradientBoostingClassifier'> classifier\n",
      "3-5th hold, <class 'sklearn.ensemble.gradient_boosting.GradientBoostingClassifier'> classifier\n",
      "4-1th hold, <class 'xgboost.sklearn.XGBClassifier'> classifier\n",
      "4-2th hold, <class 'xgboost.sklearn.XGBClassifier'> classifier\n",
      "4-3th hold, <class 'xgboost.sklearn.XGBClassifier'> classifier\n",
      "4-4th hold, <class 'xgboost.sklearn.XGBClassifier'> classifier\n",
      "4-5th hold, <class 'xgboost.sklearn.XGBClassifier'> classifier\n",
      "--- Blending ---\n",
      "(1025, 4, 3)\n"
     ]
    },
    {
     "data": {
      "text/plain": [
       "BlendingClassifier(l1_clfs=[RandomForestClassifier(bootstrap=True, class_weight=None, criterion='gini',\n",
       "            max_depth=None, max_features='auto', max_leaf_nodes=None,\n",
       "            min_impurity_decrease=0.0, min_impurity_split=None,\n",
       "            min_samples_leaf=1, min_samples_split=2,\n",
       "            min_weight_fract...state=0, reg_alpha=0, reg_lambda=1, scale_pos_weight=1,\n",
       "       seed=None, silent=True, subsample=1)],\n",
       "          l2_clf=RandomForestClassifier(bootstrap=True, class_weight=None, criterion='gini',\n",
       "            max_depth=None, max_features='auto', max_leaf_nodes=None,\n",
       "            min_impurity_decrease=0.0, min_impurity_split=None,\n",
       "            min_samples_leaf=1, min_samples_split=2,\n",
       "            min_weight_fraction_leaf=0.0, n_estimators=100, n_jobs=-1,\n",
       "            oob_score=False, random_state=None, verbose=0,\n",
       "            warm_start=False),\n",
       "          n_hold=5, random_state=794, test_size=0.2, use_clones=True,\n",
       "          verbose=1)"
      ]
     },
     "execution_count": 7,
     "metadata": {},
     "output_type": "execute_result"
    }
   ],
   "source": [
    "blendclf.fit(train_X, train_y)"
   ]
  },
  {
   "cell_type": "code",
   "execution_count": 8,
   "metadata": {},
   "outputs": [],
   "source": [
    "pred_y = blendclf.predict(test_X)"
   ]
  },
  {
   "cell_type": "code",
   "execution_count": 9,
   "metadata": {},
   "outputs": [
    {
     "name": "stdout",
     "output_type": "stream",
     "text": [
      "              precision    recall  f1-score   support\n",
      "\n",
      "           0       0.76      0.79      0.78       102\n",
      "           1       0.69      0.61      0.65       115\n",
      "           2       0.56      0.70      0.62        40\n",
      "\n",
      "   micro avg       0.70      0.70      0.70       257\n",
      "   macro avg       0.67      0.70      0.68       257\n",
      "weighted avg       0.70      0.70      0.70       257\n",
      "\n"
     ]
    }
   ],
   "source": [
    "print(classification_report(test_y, pred_y))"
   ]
  },
  {
   "cell_type": "code",
   "execution_count": 10,
   "metadata": {},
   "outputs": [
    {
     "data": {
      "text/plain": [
       "(<Figure size 432x288 with 1 Axes>,\n",
       " <matplotlib.axes._subplots.AxesSubplot at 0x1a1c119f60>)"
      ]
     },
     "execution_count": 10,
     "metadata": {},
     "output_type": "execute_result"
    },
    {
     "data": {
      "image/png": "[encoded data removed]",
      "text/plain": [
       "<Figure size 432x288 with 1 Axes>"
      ]
     },
     "metadata": {
      "needs_background": "light"
     },
     "output_type": "display_data"
    }
   ],
   "source": [
    "from mlxtend.plotting import plot_confusion_matrix\n",
    "cm = confusion_matrix(test_y, pred_y)\n",
    "plot_confusion_matrix(cm)"
   ]
  },
  {
   "cell_type": "code",
   "execution_count": 11,
   "metadata": {},
   "outputs": [
    {
     "name": "stdout",
     "output_type": "stream",
     "text": [
      "              precision    recall  f1-score   support\n",
      "\n",
      "           0       0.81      0.81      0.81       102\n",
      "           1       0.77      0.75      0.76       115\n",
      "           2       0.72      0.78      0.75        40\n",
      "\n",
      "   micro avg       0.78      0.78      0.78       257\n",
      "   macro avg       0.77      0.78      0.77       257\n",
      "weighted avg       0.78      0.78      0.78       257\n",
      "\n"
     ]
    }
   ],
   "source": [
    "mono_rf = RandomForestClassifier(n_estimators=100, n_jobs=-1)\n",
    "mono_rf.fit(train_X, train_y)\n",
    "pred_y2 = mono_rf.predict(test_X) \n",
    "print(classification_report(test_y, pred_y2))"
   ]
  },
  {
   "cell_type": "code",
   "execution_count": 12,
   "metadata": {},
   "outputs": [
    {
     "data": {
      "text/plain": [
       "(<Figure size 432x288 with 1 Axes>,\n",
       " <matplotlib.axes._subplots.AxesSubplot at 0x10a425630>)"
      ]
     },
     "execution_count": 12,
     "metadata": {},
     "output_type": "execute_result"
    },
    {
     "data": {
      "image/png": "[encoded data removed]",
      "text/plain": [
       "<Figure size 432x288 with 1 Axes>"
      ]
     },
     "metadata": {
      "needs_background": "light"
     },
     "output_type": "display_data"
    }
   ],
   "source": [
    "cm2 = confusion_matrix(test_y, pred_y2)\n",
    "plot_confusion_matrix(cm2)"
   ]
  },
  {
   "cell_type": "code",
   "execution_count": null,
   "metadata": {},
   "outputs": [],
   "source": []
  }
 ],
 "metadata": {
  "kernelspec": {
   "display_name": "Python 3",
   "language": "python",
   "name": "python3"
  },
  "language_info": {
   "codemirror_mode": {
    "name": "ipython",
    "version": 3
   },
   "file_extension": ".py",
   "mimetype": "text/x-python",
   "name": "python",
   "nbconvert_exporter": "python",
   "pygments_lexer": "ipython3",
   "version": "3.6.6"
  }
 },
 "nbformat": 4,
 "nbformat_minor": 2
}
